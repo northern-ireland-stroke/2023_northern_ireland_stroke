{
 "cells": [
  {
   "cell_type": "markdown",
   "id": "f6e66270-927e-4467-b85d-9615272ebbed",
   "metadata": {},
   "source": [
    "# Combine cohorts\n",
    "\n",
    "already have\n",
    "Calculate outcomes for these cohorts of patients:\n",
    "+ nLVO with IVT\n",
    "+ LVO with IVT\n",
    "+ LVO with MT\n",
    "\n",
    "Then combine the results into these groups:\n",
    "+ RACE < 5, treated population only\n",
    "+ RACE >= 5, treated population only\n",
    "+ Full population, actual treatment rates\n",
    "+ Full population, target treatment rates\n",
    "\n",
    "## Code setup"
   ]
  },
  {
   "cell_type": "code",
   "execution_count": 3,
   "id": "5d8b24ac-5ab0-4bae-a94f-0d777d3f0069",
   "metadata": {},
   "outputs": [],
   "source": [
    "import pandas as pd\n",
    "import os\n",
    "from dataclasses import dataclass\n",
    "import copy\n",
    "import numpy as np"
   ]
  },
  {
   "cell_type": "code",
   "execution_count": 15,
   "id": "daa0cf85-a11f-40ad-b6a5-b436be6e7fcb",
   "metadata": {},
   "outputs": [],
   "source": [
    "# Define file paths\n",
    "@dataclass(frozen=True)\n",
    "class Paths:\n",
    "    '''Singleton object for storing paths to data and database.'''\n",
    "\n",
    "    # Directories:\n",
    "    dir_data = 'data'\n",
    "    dir_output = 'output'\n",
    "\n",
    "    # Reference data:\n",
    "    patient_props_target = 'patient_proportions_target.csv'\n",
    "    patient_props_actual_pre_str = 'patient_proportions_'  # {unit_postcode}.csv\n",
    "    # Input files (outcome model results):\n",
    "    outcome_file_pre_str = 'sa_outcome_model_output_'  # {unit_postcode}.csv\n",
    "\n",
    "paths = Paths()"
   ]
  },
  {
   "cell_type": "markdown",
   "id": "f9645099-01e0-4ae1-9580-a5afb7c09f2c",
   "metadata": {},
   "source": [
    "## Load outcome model outputs\n",
    "\n",
    "There is one file saved for each of the following stroke unit postcodes:"
   ]
  },
  {
   "cell_type": "code",
   "execution_count": 5,
   "id": "b0e52b6b-ac83-444b-a1f7-97e34c71fc5e",
   "metadata": {},
   "outputs": [],
   "source": [
    "unit_list = [\n",
    "    'BT126BA',\n",
    "    'BT161RH',\n",
    "    'BT358DR',\n",
    "    'BT412RL',\n",
    "    'BT476SB',\n",
    "    'BT521HS',\n",
    "    'BT635QQ',\n",
    "    'BT746DN'\n",
    "]"
   ]
  },
  {
   "cell_type": "markdown",
   "id": "55a03d79-df86-4937-8f67-8e611476a50c",
   "metadata": {},
   "source": [
    "Load the file for each stroke unit postcode in turn and store the results in the dictionary:"
   ]
  },
  {
   "cell_type": "code",
   "execution_count": 10,
   "id": "4d615ef9-6637-4321-ab5b-75755a7eb5e7",
   "metadata": {},
   "outputs": [],
   "source": [
    "dict_outcomes = {}\n",
    "\n",
    "for unit_name in unit_list:\n",
    "    path_to_file = os.path.join(paths.dir_output, paths.outcome_file_pre_str + unit_name + '.csv')\n",
    "    df = pd.read_csv(path_to_file, index_col=0)\n",
    "    dict_outcomes[unit_name] = df"
   ]
  },
  {
   "cell_type": "markdown",
   "id": "61d2cd51-dcbc-4a95-a407-2a9e09837144",
   "metadata": {},
   "source": [
    "Show the contents of the first of these dataframes:"
   ]
  },
  {
   "cell_type": "code",
   "execution_count": 11,
   "id": "d6ea017d-c4ac-4039-b24e-de92d6df0740",
   "metadata": {},
   "outputs": [
    {
     "data": {
      "text/html": [
       "<div>\n",
       "<style scoped>\n",
       "    .dataframe tbody tr th:only-of-type {\n",
       "        vertical-align: middle;\n",
       "    }\n",
       "\n",
       "    .dataframe tbody tr th {\n",
       "        vertical-align: top;\n",
       "    }\n",
       "\n",
       "    .dataframe thead th {\n",
       "        text-align: right;\n",
       "    }\n",
       "</style>\n",
       "<table border=\"1\" class=\"dataframe\">\n",
       "  <thead>\n",
       "    <tr style=\"text-align: right;\">\n",
       "      <th>from_postcode</th>\n",
       "      <th>N00000001</th>\n",
       "      <th>N00000002</th>\n",
       "      <th>N00000003</th>\n",
       "    </tr>\n",
       "  </thead>\n",
       "  <tbody>\n",
       "    <tr>\n",
       "      <th>nlvo_ivt_added_utility</th>\n",
       "      <td>0.10711</td>\n",
       "      <td>0.10988</td>\n",
       "      <td>0.10988</td>\n",
       "    </tr>\n",
       "    <tr>\n",
       "      <th>nlvo_ivt_mean_mrs</th>\n",
       "      <td>1.69309</td>\n",
       "      <td>1.67704</td>\n",
       "      <td>1.67704</td>\n",
       "    </tr>\n",
       "    <tr>\n",
       "      <th>nlvo_ivt_mrs_less_equal_2</th>\n",
       "      <td>0.69579</td>\n",
       "      <td>0.69884</td>\n",
       "      <td>0.69884</td>\n",
       "    </tr>\n",
       "    <tr>\n",
       "      <th>nlvo_ivt_mrs_shift</th>\n",
       "      <td>-0.58691</td>\n",
       "      <td>-0.60296</td>\n",
       "      <td>-0.60296</td>\n",
       "    </tr>\n",
       "    <tr>\n",
       "      <th>nlvo_ivt_added_mrs_less_equal_2</th>\n",
       "      <td>0.11579</td>\n",
       "      <td>0.11884</td>\n",
       "      <td>0.11884</td>\n",
       "    </tr>\n",
       "    <tr>\n",
       "      <th>lvo_ivt_added_utility</th>\n",
       "      <td>0.05214</td>\n",
       "      <td>0.05399</td>\n",
       "      <td>0.05399</td>\n",
       "    </tr>\n",
       "    <tr>\n",
       "      <th>lvo_ivt_mean_mrs</th>\n",
       "      <td>3.38255</td>\n",
       "      <td>3.37244</td>\n",
       "      <td>3.37244</td>\n",
       "    </tr>\n",
       "    <tr>\n",
       "      <th>lvo_ivt_mrs_less_equal_2</th>\n",
       "      <td>0.32186</td>\n",
       "      <td>0.32381</td>\n",
       "      <td>0.32381</td>\n",
       "    </tr>\n",
       "    <tr>\n",
       "      <th>lvo_ivt_mrs_shift</th>\n",
       "      <td>-0.25745</td>\n",
       "      <td>-0.26756</td>\n",
       "      <td>-0.26756</td>\n",
       "    </tr>\n",
       "    <tr>\n",
       "      <th>lvo_ivt_added_mrs_less_equal_2</th>\n",
       "      <td>0.05686</td>\n",
       "      <td>0.05881</td>\n",
       "      <td>0.05881</td>\n",
       "    </tr>\n",
       "    <tr>\n",
       "      <th>lvo_ivt_mt_added_utility</th>\n",
       "      <td>0.15534</td>\n",
       "      <td>0.15937</td>\n",
       "      <td>0.15937</td>\n",
       "    </tr>\n",
       "    <tr>\n",
       "      <th>lvo_ivt_mt_mean_mrs</th>\n",
       "      <td>2.85614</td>\n",
       "      <td>2.83437</td>\n",
       "      <td>2.83437</td>\n",
       "    </tr>\n",
       "    <tr>\n",
       "      <th>lvo_ivt_mt_mrs_less_equal_2</th>\n",
       "      <td>0.42914</td>\n",
       "      <td>0.43348</td>\n",
       "      <td>0.43348</td>\n",
       "    </tr>\n",
       "    <tr>\n",
       "      <th>lvo_ivt_mt_mrs_shift</th>\n",
       "      <td>-0.78386</td>\n",
       "      <td>-0.80563</td>\n",
       "      <td>-0.80563</td>\n",
       "    </tr>\n",
       "    <tr>\n",
       "      <th>lvo_ivt_mt_added_mrs_less_equal_2</th>\n",
       "      <td>0.16414</td>\n",
       "      <td>0.16848</td>\n",
       "      <td>0.16848</td>\n",
       "    </tr>\n",
       "    <tr>\n",
       "      <th>lvo_mt_added_utility</th>\n",
       "      <td>0.15534</td>\n",
       "      <td>0.15937</td>\n",
       "      <td>0.15937</td>\n",
       "    </tr>\n",
       "    <tr>\n",
       "      <th>lvo_mt_mean_mrs</th>\n",
       "      <td>2.85614</td>\n",
       "      <td>2.83437</td>\n",
       "      <td>2.83437</td>\n",
       "    </tr>\n",
       "    <tr>\n",
       "      <th>lvo_mt_mrs_less_equal_2</th>\n",
       "      <td>0.42914</td>\n",
       "      <td>0.43348</td>\n",
       "      <td>0.43348</td>\n",
       "    </tr>\n",
       "    <tr>\n",
       "      <th>lvo_mt_mrs_shift</th>\n",
       "      <td>-0.78386</td>\n",
       "      <td>-0.80563</td>\n",
       "      <td>-0.80563</td>\n",
       "    </tr>\n",
       "    <tr>\n",
       "      <th>lvo_mt_added_mrs_less_equal_2</th>\n",
       "      <td>0.16414</td>\n",
       "      <td>0.16848</td>\n",
       "      <td>0.16848</td>\n",
       "    </tr>\n",
       "  </tbody>\n",
       "</table>\n",
       "</div>"
      ],
      "text/plain": [
       "from_postcode                      N00000001  N00000002  N00000003\n",
       "nlvo_ivt_added_utility               0.10711    0.10988    0.10988\n",
       "nlvo_ivt_mean_mrs                    1.69309    1.67704    1.67704\n",
       "nlvo_ivt_mrs_less_equal_2            0.69579    0.69884    0.69884\n",
       "nlvo_ivt_mrs_shift                  -0.58691   -0.60296   -0.60296\n",
       "nlvo_ivt_added_mrs_less_equal_2      0.11579    0.11884    0.11884\n",
       "lvo_ivt_added_utility                0.05214    0.05399    0.05399\n",
       "lvo_ivt_mean_mrs                     3.38255    3.37244    3.37244\n",
       "lvo_ivt_mrs_less_equal_2             0.32186    0.32381    0.32381\n",
       "lvo_ivt_mrs_shift                   -0.25745   -0.26756   -0.26756\n",
       "lvo_ivt_added_mrs_less_equal_2       0.05686    0.05881    0.05881\n",
       "lvo_ivt_mt_added_utility             0.15534    0.15937    0.15937\n",
       "lvo_ivt_mt_mean_mrs                  2.85614    2.83437    2.83437\n",
       "lvo_ivt_mt_mrs_less_equal_2          0.42914    0.43348    0.43348\n",
       "lvo_ivt_mt_mrs_shift                -0.78386   -0.80563   -0.80563\n",
       "lvo_ivt_mt_added_mrs_less_equal_2    0.16414    0.16848    0.16848\n",
       "lvo_mt_added_utility                 0.15534    0.15937    0.15937\n",
       "lvo_mt_mean_mrs                      2.85614    2.83437    2.83437\n",
       "lvo_mt_mrs_less_equal_2              0.42914    0.43348    0.43348\n",
       "lvo_mt_mrs_shift                    -0.78386   -0.80563   -0.80563\n",
       "lvo_mt_added_mrs_less_equal_2        0.16414    0.16848    0.16848"
      ]
     },
     "execution_count": 11,
     "metadata": {},
     "output_type": "execute_result"
    }
   ],
   "source": [
    "dict_outcomes[unit_list[0]].head(3).T"
   ]
  },
  {
   "cell_type": "markdown",
   "id": "5a6b6c21-188f-4e65-97d8-2241a3fb3f97",
   "metadata": {},
   "source": [
    "## Combine cohorts into patient populations\n",
    "\n",
    "The outcome model has created separate results for these cohorts:\n",
    "+ nLVO treated with IVT\n",
    "+ LVO treated with IVT only\n",
    "+ LVO treated with MT only\n",
    "+ LVO treated with IVT and MT\n",
    "\n",
    "We will combine these into the following patient populations:\n",
    "+ RACE < 5\n",
    "  + Just the nLVO patients\n",
    "+ RACE >= 5\n",
    "  + Just the LVO patients, mix of treatment types\n",
    "+ Full population, actual treatment rates\n",
    "  + Combine treated ischaemic patients scaled to include patients receiving no treatment\n",
    "+ Full population, target treatment rates\n",
    "  + Combine treated ischaemic patients scaled to include patients receiving no treatment      "
   ]
  },
  {
   "cell_type": "markdown",
   "id": "0def4666-bfcb-45e4-b36e-5339691e1603",
   "metadata": {},
   "source": [
    "List of patient cohorts:"
   ]
  },
  {
   "cell_type": "code",
   "execution_count": 13,
   "id": "6ead0212-bdc1-4644-a092-ee9f0a332cd5",
   "metadata": {},
   "outputs": [],
   "source": [
    "patient_cohorts = ['nlvo_ivt', 'lvo_ivt', 'lvo_ivt_mt', 'lvo_mt']"
   ]
  },
  {
   "cell_type": "markdown",
   "id": "d7906f28-2f59-4cd2-b020-38e591c85031",
   "metadata": {},
   "source": [
    "List of outcome measures in the results data:"
   ]
  },
  {
   "cell_type": "code",
   "execution_count": 14,
   "id": "4a622c6e-8246-46aa-9911-a10e133b6e47",
   "metadata": {},
   "outputs": [
    {
     "data": {
      "text/plain": [
       "['added_mrs_less_equal_2',\n",
       " 'added_utility',\n",
       " 'mean_mrs',\n",
       " 'mrs_less_equal_2',\n",
       " 'mrs_shift']"
      ]
     },
     "execution_count": 14,
     "metadata": {},
     "output_type": "execute_result"
    }
   ],
   "source": [
    "outcome_measures = sorted(list(set([\n",
    "    c.split('ivt_')[-1].split('mt_')[-1]\n",
    "    for c in dict_outcomes[unit_list[0]].columns\n",
    "])))\n",
    "\n",
    "outcome_measures"
   ]
  },
  {
   "cell_type": "markdown",
   "id": "e7553ded-a171-42cb-af88-4147ef802997",
   "metadata": {},
   "source": [
    "### Patient proportions\n",
    "\n",
    "These are the proportions of the full population with target treatment rates:"
   ]
  },
  {
   "cell_type": "code",
   "execution_count": 16,
   "id": "99414994-d9b7-44cc-80c4-3fd520260572",
   "metadata": {},
   "outputs": [
    {
     "data": {
      "text/plain": [
       "0\n",
       "haemorrhagic         0.13600\n",
       "lvo_no_treatment     0.16332\n",
       "lvo_ivt_only         0.04156\n",
       "lvo_ivt_mt           0.04250\n",
       "lvo_mt_only          0.00750\n",
       "nlvo_no_treatment    0.51318\n",
       "nlvo_ivt             0.09594\n",
       "Name: target_treatment_rates, dtype: float64"
      ]
     },
     "execution_count": 16,
     "metadata": {},
     "output_type": "execute_result"
    }
   ],
   "source": [
    "df_props_target = pd.read_csv(\n",
    "    os.path.join(paths.dir_data, paths.patient_props_target),\n",
    "    index_col=0, header=None\n",
    ").squeeze()\n",
    "df_props_target.name = 'target_treatment_rates'\n",
    "\n",
    "df_props_target"
   ]
  },
  {
   "cell_type": "markdown",
   "id": "7aa918e8-6d0f-406e-8798-3a5805e36c2e",
   "metadata": {},
   "source": [
    "And proportions with actual target rates:  DEPEND ON STROKE UNTI  - __TO DO__ change this to import separately"
   ]
  },
  {
   "cell_type": "code",
   "execution_count": 44,
   "id": "838b1094",
   "metadata": {},
   "outputs": [
    {
     "data": {
      "text/plain": [
       "0\n",
       "haemorrhagic         0.13600\n",
       "lvo_no_treatment     0.16332\n",
       "lvo_ivt_only         0.04156\n",
       "lvo_ivt_mt           0.04250\n",
       "lvo_mt_only          0.00750\n",
       "nlvo_no_treatment    0.51318\n",
       "nlvo_ivt             0.09594\n",
       "Name: target_treatment_rates, dtype: float64"
      ]
     },
     "execution_count": 44,
     "metadata": {},
     "output_type": "execute_result"
    }
   ],
   "source": [
    "df_props_actual = pd.read_csv(\n",
    "    os.path.join(paths.dir_output, paths.patient_props_actual),\n",
    "    index_col=0, header=None\n",
    ").squeeze()\n",
    "df_props_actual.name = 'actual_treatment_rates'\n",
    "\n",
    "df_props_actual"
   ]
  },
  {
   "cell_type": "code",
   "execution_count": null,
   "id": "04856a3b-1b95-4785-a4a8-56f56a6b85ff",
   "metadata": {},
   "outputs": [],
   "source": [
    "prop_nlvo = df_props_target['nlvo_ivt'] + df_props_target['nlvo_no_treatment']\n",
    "prop_lvo = (\n",
    "    df_props_target['lvo_ivt_only'] +\n",
    "    df_props_target['lvo_ivt_mt'] +\n",
    "    df_props_target['lvo_mt_only'] +\n",
    "    df_props_target['lvo_no_treatment'] +\n",
    ")\n",
    "\n",
    "proportions_dicts = {\n",
    "    'racel5': {\n",
    "        'nlvo_ivt': (df_props_target['nlvo_ivt'] / prop_nlvo),\n",
    "        'lvo_ivt': 0.0,\n",
    "        'lvo_ivt_mt': 0.0,\n",
    "        'lvo_mt': 0.0\n",
    "    },\n",
    "    'racegeq5': {\n",
    "        'nlvo_ivt': 0.0,\n",
    "        'lvo_ivt': (df_props_target['lvo_ivt_only'] / prop_lvo),\n",
    "        'lvo_ivt_mt': (df_props_target['lvo_ivt_mt'] / prop_lvo),\n",
    "        'lvo_mt': (df_props_target['lvo_mt_only'] / prop_lvo)\n",
    "    },\n",
    "    'full_pop_target_rates': {\n",
    "        'nlvo_ivt': df_props_target['lvo_ivt_only'],\n",
    "        'lvo_ivt': df_props_target['lvo_ivt_only'],\n",
    "        'lvo_ivt_mt': df_props_target['lvo_ivt_only'],\n",
    "        'lvo_mt': df_props_target['lvo_ivt_only']\n",
    "    },\n",
    "    'full_pop_actual_rates': {\n",
    "        'nlvo_ivt': ,\n",
    "        'lvo_ivt': ,\n",
    "        'lvo_ivt_mt': ,\n",
    "        'lvo_mt': \n",
    "    },\n",
    "}"
   ]
  },
  {
   "cell_type": "code",
   "execution_count": null,
   "id": "7174bb66-8e34-49fd-a32a-0a52daf8136a",
   "metadata": {},
   "outputs": [],
   "source": [
    "def combine_cohorts(df_outcomes, outcome_measures, proportions_dicts):\n",
    "    df_results = pd.DataFrame(df_outcomes.index)\n",
    "\n",
    "    for om im outcome_measures:\n",
    "    "
   ]
  },
  {
   "cell_type": "markdown",
   "id": "fce60651-264c-4413-9536-b6f14dfa3100",
   "metadata": {},
   "source": [
    "## Save results\n",
    "\n",
    "Save the results to file:"
   ]
  }
 ],
 "metadata": {
  "kernelspec": {
   "display_name": "Python 3 (ipykernel)",
   "language": "python",
   "name": "python3"
  },
  "language_info": {
   "codemirror_mode": {
    "name": "ipython",
    "version": 3
   },
   "file_extension": ".py",
   "mimetype": "text/x-python",
   "name": "python",
   "nbconvert_exporter": "python",
   "pygments_lexer": "ipython3",
   "version": "3.9.16"
  }
 },
 "nbformat": 4,
 "nbformat_minor": 5
}
